{
 "cells": [
  {
   "cell_type": "markdown",
   "metadata": {},
   "source": [
    "# The P-PIG"
   ]
  },
  {
   "cell_type": "markdown",
   "metadata": {},
   "source": [
    "#### Pasvik Percipitation Information Generator"
   ]
  },
  {
   "cell_type": "markdown",
   "metadata": {},
   "source": [
    "By: Andrea Gjestvang"
   ]
  },
  {
   "cell_type": "code",
   "execution_count": 1,
   "metadata": {},
   "outputs": [
    {
     "name": "stdout",
     "output_type": "stream",
     "text": [
      "Welcome to P-PIG, the Pasvik Precipitation Info Generator! :)\n",
      "\n",
      "Please choose what you want to generate: \n",
      "\n",
      "- Choose to examine the mean of a specific period (P)\n",
      "- Choose to save collected info to file (F)\n",
      "- Create a graph (G)\n",
      "- Quit Generator (Q) \n",
      "\n",
      "You seem to have entered an unvalid input \n",
      "\n",
      "Please choose what you want to generate: \n",
      "\n",
      "- Choose to examine the mean of a specific period (P)\n",
      "- Choose to save collected info to file (F)\n",
      "- Create a graph (G)\n",
      "- Quit Generator (Q) \n",
      "\n",
      "You seem to have entered an unvalid input \n",
      "\n",
      "Please choose what you want to generate: \n",
      "\n",
      "- Choose to examine the mean of a specific period (P)\n",
      "- Choose to save collected info to file (F)\n",
      "- Create a graph (G)\n",
      "- Quit Generator (Q) \n",
      "\n",
      "This stops the generator and returns a graph:\n",
      "Write a list of years you want to examine, seperated by ','\n",
      "Available period: 2009-2023\n",
      "INFO: The year '2013' is not available in the data\n",
      "An input:\n",
      "invalid literal for int() with base 10: ''\n",
      "Your input  is not a year in format YYYY.\n",
      "Please input your years in the correct format.\n",
      "\n",
      "An input:\n"
     ]
    },
    {
     "ename": "AttributeError",
     "evalue": "'Chart' object has no attribute 'selection_point'",
     "output_type": "error",
     "traceback": [
      "\u001b[1;31m---------------------------------------------------------------------------\u001b[0m",
      "\u001b[1;31mAttributeError\u001b[0m                            Traceback (most recent call last)",
      "Cell \u001b[1;32mIn[1], line 3\u001b[0m\n\u001b[0;32m      1\u001b[0m \u001b[38;5;28;01mimport\u001b[39;00m \u001b[38;5;21;01mMain\u001b[39;00m \u001b[38;5;28;01mas\u001b[39;00m \u001b[38;5;21;01mmain\u001b[39;00m\n\u001b[1;32m----> 3\u001b[0m \u001b[43mmain\u001b[49m\u001b[38;5;241;43m.\u001b[39;49m\u001b[43mmain\u001b[49m\u001b[43m(\u001b[49m\u001b[43m)\u001b[49m\n",
      "File \u001b[1;32mc:\\Users\\Andrea\\OneDrive - UiT Office 365\\Master UIT\\BIO-3027 Python\\FinalAssignmentAndreaGjestvang\\Main.py:68\u001b[0m, in \u001b[0;36mmain\u001b[1;34m()\u001b[0m\n\u001b[0;32m     66\u001b[0m \u001b[38;5;28mprint\u001b[39m(\u001b[38;5;124m\"\u001b[39m\u001b[38;5;124mThis stops the generator and returns a graph:\u001b[39m\u001b[38;5;124m\"\u001b[39m)\n\u001b[0;32m     67\u001b[0m chosen_list \u001b[38;5;241m=\u001b[39m ut\u001b[38;5;241m.\u001b[39mchoose_year_function(pasvik_summer)\n\u001b[1;32m---> 68\u001b[0m chart \u001b[38;5;241m=\u001b[39m \u001b[43mut\u001b[49m\u001b[38;5;241;43m.\u001b[39;49m\u001b[43mgraph_generator\u001b[49m\u001b[43m(\u001b[49m\u001b[43mchosen_list\u001b[49m\u001b[43m[\u001b[49m\u001b[38;5;241;43m0\u001b[39;49m\u001b[43m]\u001b[49m\u001b[43m)\u001b[49m\n\u001b[0;32m     69\u001b[0m \u001b[38;5;28mprint\u001b[39m(\u001b[38;5;124m\"\u001b[39m\u001b[38;5;130;01m\\n\u001b[39;00m\u001b[38;5;124m\"\u001b[39m)\n\u001b[0;32m     70\u001b[0m \u001b[38;5;28mprint\u001b[39m(\u001b[38;5;124m\"\u001b[39m\u001b[38;5;124mThank you for using the P-PIG!\u001b[39m\u001b[38;5;124m\"\u001b[39m)\n",
      "File \u001b[1;32mc:\\Users\\Andrea\\OneDrive - UiT Office 365\\Master UIT\\BIO-3027 Python\\FinalAssignmentAndreaGjestvang\\Utilities.py:100\u001b[0m, in \u001b[0;36mgraph_generator\u001b[1;34m(chosen_dataset)\u001b[0m\n\u001b[0;32m     98\u001b[0m \u001b[38;5;28;01mdef\u001b[39;00m \u001b[38;5;21mgraph_generator\u001b[39m(chosen_dataset): \n\u001b[0;32m     99\u001b[0m \u001b[38;5;250m    \u001b[39m\u001b[38;5;124;03m\"\"\"Docstring: creating a graph based on the inputted dataset\"\"\"\u001b[39;00m\n\u001b[1;32m--> 100\u001b[0m     chosen_chart \u001b[38;5;241m=\u001b[39m \u001b[43malt\u001b[49m\u001b[38;5;241;43m.\u001b[39;49m\u001b[43mChart\u001b[49m\u001b[43m(\u001b[49m\u001b[43mchosen_dataset\u001b[49m\u001b[43m)\u001b[49m\u001b[38;5;241;43m.\u001b[39;49m\u001b[43mmark_bar\u001b[49m\u001b[43m(\u001b[49m\u001b[43m)\u001b[49m\u001b[38;5;241;43m.\u001b[39;49m\u001b[43mselection_point\u001b[49m(on\u001b[38;5;241m=\u001b[39m\u001b[38;5;124m'\u001b[39m\u001b[38;5;124mpointerover\u001b[39m\u001b[38;5;124m'\u001b[39m, nearest\u001b[38;5;241m=\u001b[39m\u001b[38;5;28;01mTrue\u001b[39;00m)\u001b[38;5;241m.\u001b[39mencode(\n\u001b[0;32m    101\u001b[0m     x\u001b[38;5;241m=\u001b[39m alt\u001b[38;5;241m.\u001b[39mX(\u001b[38;5;124m\"\u001b[39m\u001b[38;5;124mDate\u001b[39m\u001b[38;5;124m\"\u001b[39m)\u001b[38;5;241m.\u001b[39mtitle(\u001b[38;5;124m\"\u001b[39m\u001b[38;5;124mYear\u001b[39m\u001b[38;5;124m\"\u001b[39m),\n\u001b[0;32m    102\u001b[0m     y\u001b[38;5;241m=\u001b[39malt\u001b[38;5;241m.\u001b[39mY(\u001b[38;5;124m\"\u001b[39m\u001b[38;5;124mPrec_norm\u001b[39m\u001b[38;5;124m\"\u001b[39m)\u001b[38;5;241m.\u001b[39mtitle(\u001b[38;5;124m\"\u001b[39m\u001b[38;5;124mPrecipitation related to normality (1990-2020)\u001b[39m\u001b[38;5;124m\"\u001b[39m),\n\u001b[0;32m    103\u001b[0m     color\u001b[38;5;241m=\u001b[39m\u001b[38;5;124m\"\u001b[39m\u001b[38;5;124mChosen\u001b[39m\u001b[38;5;124m\"\u001b[39m,\n\u001b[0;32m    104\u001b[0m     ) \u001b[38;5;241m+\u001b[39m alt\u001b[38;5;241m.\u001b[39mChart()\u001b[38;5;241m.\u001b[39mmark_rule(strokeDash\u001b[38;5;241m=\u001b[39m[\u001b[38;5;241m12\u001b[39m, \u001b[38;5;241m6\u001b[39m], size\u001b[38;5;241m=\u001b[39m\u001b[38;5;241m1\u001b[39m)\u001b[38;5;241m.\u001b[39mencode(y\u001b[38;5;241m=\u001b[39malt\u001b[38;5;241m.\u001b[39mdatum(\u001b[38;5;241m100\u001b[39m))\n\u001b[0;32m    105\u001b[0m     \u001b[38;5;28;01mreturn\u001b[39;00m chosen_chart\n",
      "File \u001b[1;32mc:\\Users\\Andrea\\anaconda3\\Lib\\site-packages\\altair\\utils\\schemapi.py:858\u001b[0m, in \u001b[0;36mSchemaBase.__getattr__\u001b[1;34m(self, attr)\u001b[0m\n\u001b[0;32m    856\u001b[0m \u001b[38;5;28;01mexcept\u001b[39;00m \u001b[38;5;167;01mAttributeError\u001b[39;00m:\n\u001b[0;32m    857\u001b[0m     _getattr \u001b[38;5;241m=\u001b[39m \u001b[38;5;28msuper\u001b[39m(SchemaBase, \u001b[38;5;28mself\u001b[39m)\u001b[38;5;241m.\u001b[39m\u001b[38;5;21m__getattribute__\u001b[39m\n\u001b[1;32m--> 858\u001b[0m \u001b[38;5;28;01mreturn\u001b[39;00m \u001b[43m_getattr\u001b[49m\u001b[43m(\u001b[49m\u001b[43mattr\u001b[49m\u001b[43m)\u001b[49m\n",
      "\u001b[1;31mAttributeError\u001b[0m: 'Chart' object has no attribute 'selection_point'"
     ]
    }
   ],
   "source": [
    "import Main as main\n",
    "\n",
    "main.main()"
   ]
  },
  {
   "cell_type": "code",
   "execution_count": 20,
   "metadata": {},
   "outputs": [
    {
     "name": "stderr",
     "output_type": "stream",
     "text": [
      "c:\\Users\\Andrea\\anaconda3\\Lib\\site-packages\\altair\\utils\\deprecation.py:65: AltairDeprecationWarning: 'add_selection' is deprecated. Use 'add_params' instead.\n",
      "  warnings.warn(message, AltairDeprecationWarning, stacklevel=1)\n"
     ]
    },
    {
     "data": {
      "text/html": [
       "\n",
       "<style>\n",
       "  #altair-viz-84df7df4094d4f66a91a2c94ea400e4c.vega-embed {\n",
       "    width: 100%;\n",
       "    display: flex;\n",
       "  }\n",
       "\n",
       "  #altair-viz-84df7df4094d4f66a91a2c94ea400e4c.vega-embed details,\n",
       "  #altair-viz-84df7df4094d4f66a91a2c94ea400e4c.vega-embed details summary {\n",
       "    position: relative;\n",
       "  }\n",
       "</style>\n",
       "<div id=\"altair-viz-84df7df4094d4f66a91a2c94ea400e4c\"></div>\n",
       "<script type=\"text/javascript\">\n",
       "  var VEGA_DEBUG = (typeof VEGA_DEBUG == \"undefined\") ? {} : VEGA_DEBUG;\n",
       "  (function(spec, embedOpt){\n",
       "    let outputDiv = document.currentScript.previousElementSibling;\n",
       "    if (outputDiv.id !== \"altair-viz-84df7df4094d4f66a91a2c94ea400e4c\") {\n",
       "      outputDiv = document.getElementById(\"altair-viz-84df7df4094d4f66a91a2c94ea400e4c\");\n",
       "    }\n",
       "    const paths = {\n",
       "      \"vega\": \"https://cdn.jsdelivr.net/npm/vega@5?noext\",\n",
       "      \"vega-lib\": \"https://cdn.jsdelivr.net/npm/vega-lib?noext\",\n",
       "      \"vega-lite\": \"https://cdn.jsdelivr.net/npm/vega-lite@5.17.0?noext\",\n",
       "      \"vega-embed\": \"https://cdn.jsdelivr.net/npm/vega-embed@6?noext\",\n",
       "    };\n",
       "\n",
       "    function maybeLoadScript(lib, version) {\n",
       "      var key = `${lib.replace(\"-\", \"\")}_version`;\n",
       "      return (VEGA_DEBUG[key] == version) ?\n",
       "        Promise.resolve(paths[lib]) :\n",
       "        new Promise(function(resolve, reject) {\n",
       "          var s = document.createElement('script');\n",
       "          document.getElementsByTagName(\"head\")[0].appendChild(s);\n",
       "          s.async = true;\n",
       "          s.onload = () => {\n",
       "            VEGA_DEBUG[key] = version;\n",
       "            return resolve(paths[lib]);\n",
       "          };\n",
       "          s.onerror = () => reject(`Error loading script: ${paths[lib]}`);\n",
       "          s.src = paths[lib];\n",
       "        });\n",
       "    }\n",
       "\n",
       "    function showError(err) {\n",
       "      outputDiv.innerHTML = `<div class=\"error\" style=\"color:red;\">${err}</div>`;\n",
       "      throw err;\n",
       "    }\n",
       "\n",
       "    function displayChart(vegaEmbed) {\n",
       "      vegaEmbed(outputDiv, spec, embedOpt)\n",
       "        .catch(err => showError(`Javascript Error: ${err.message}<br>This usually means there's a typo in your chart specification. See the javascript console for the full traceback.`));\n",
       "    }\n",
       "\n",
       "    if(typeof define === \"function\" && define.amd) {\n",
       "      requirejs.config({paths});\n",
       "      require([\"vega-embed\"], displayChart, err => showError(`Error loading script: ${err.message}`));\n",
       "    } else {\n",
       "      maybeLoadScript(\"vega\", \"5\")\n",
       "        .then(() => maybeLoadScript(\"vega-lite\", \"5.17.0\"))\n",
       "        .then(() => maybeLoadScript(\"vega-embed\", \"6\"))\n",
       "        .catch(showError)\n",
       "        .then(() => displayChart(vegaEmbed));\n",
       "    }\n",
       "  })({\"config\": {\"view\": {\"continuousWidth\": 300, \"continuousHeight\": 300}}, \"layer\": [{\"data\": {\"name\": \"data-1987a0438465e2b186ec06c7ab7eef9e\"}, \"mark\": {\"type\": \"bar\"}, \"encoding\": {\"color\": {\"condition\": {\"param\": \"param_12\", \"value\": \"darkblue\"}, \"value\": \"lightgrey\"}, \"tooltip\": [{\"field\": \"Prec_norm\", \"type\": \"quantitative\"}], \"x\": {\"field\": \"Date\", \"title\": \"Year\", \"type\": \"temporal\"}, \"y\": {\"field\": \"Prec_norm\", \"title\": \"Precipitation related to normality (1990-2020)\", \"type\": \"quantitative\"}}, \"name\": \"view_3\"}, {\"data\": {\"name\": \"empty\"}, \"mark\": {\"type\": \"rule\", \"size\": 1, \"strokeDash\": [12, 6]}, \"encoding\": {\"y\": {\"datum\": 100}}}], \"params\": [{\"name\": \"param_12\", \"select\": {\"type\": \"point\", \"nearest\": true, \"on\": \"pointerover\"}, \"views\": [\"view_3\"]}], \"$schema\": \"https://vega.github.io/schema/vega-lite/v5.17.0.json\", \"datasets\": {\"data-1987a0438465e2b186ec06c7ab7eef9e\": [{\"Name\": \"Pasvik - Svanvik\", \"Station\": \"SN99460\", \"Date\": \"2009-01-01T00:00:00\", \"Prec_norm\": 93.5, \"Prec_mm\": 294.6, \"Month\": \"apr\", \"Year\": 2009}, {\"Name\": \"Pasvik - Svanvik\", \"Station\": \"SN99460\", \"Date\": \"2010-01-01T00:00:00\", \"Prec_norm\": 106.1, \"Prec_mm\": 334.2, \"Month\": \"apr\", \"Year\": 2010}, {\"Name\": \"Pasvik - Svanvik\", \"Station\": \"SN99460\", \"Date\": \"2011-01-01T00:00:00\", \"Prec_norm\": 87.7, \"Prec_mm\": 276.3, \"Month\": \"apr\", \"Year\": 2011}, {\"Name\": \"Pasvik - Svanvik\", \"Station\": \"SN99460\", \"Date\": \"2012-01-01T00:00:00\", \"Prec_norm\": 110.7, \"Prec_mm\": 348.8, \"Month\": \"apr\", \"Year\": 2012}, {\"Name\": \"Pasvik - Svanvik\", \"Station\": \"SN99460\", \"Date\": \"2014-01-01T00:00:00\", \"Prec_norm\": 85.7, \"Prec_mm\": 270.1, \"Month\": \"apr\", \"Year\": 2014}, {\"Name\": \"Pasvik - Svanvik\", \"Station\": \"SN99460\", \"Date\": \"2015-01-01T00:00:00\", \"Prec_norm\": 92.1, \"Prec_mm\": 290.3, \"Month\": \"apr\", \"Year\": 2015}, {\"Name\": \"Pasvik - Svanvik\", \"Station\": \"SN99460\", \"Date\": \"2016-01-01T00:00:00\", \"Prec_norm\": 129.9, \"Prec_mm\": 409.2, \"Month\": \"apr\", \"Year\": 2016}, {\"Name\": \"Pasvik - Svanvik\", \"Station\": \"SN99460\", \"Date\": \"2017-01-01T00:00:00\", \"Prec_norm\": 91.6, \"Prec_mm\": 288.5, \"Month\": \"apr\", \"Year\": 2017}, {\"Name\": \"Pasvik - Svanvik\", \"Station\": \"SN99460\", \"Date\": \"2018-01-01T00:00:00\", \"Prec_norm\": 99.9, \"Prec_mm\": 314.9, \"Month\": \"apr\", \"Year\": 2018}, {\"Name\": \"Pasvik - Svanvik\", \"Station\": \"SN99460\", \"Date\": \"2019-01-01T00:00:00\", \"Prec_norm\": 75.2, \"Prec_mm\": 237.1, \"Month\": \"apr\", \"Year\": 2019}, {\"Name\": \"Pasvik - Svanvik\", \"Station\": \"SN99460\", \"Date\": \"2020-01-01T00:00:00\", \"Prec_norm\": 82.3, \"Prec_mm\": 259.4, \"Month\": \"apr\", \"Year\": 2020}, {\"Name\": \"Pasvik - Svanvik\", \"Station\": \"SN99460\", \"Date\": \"2021-01-01T00:00:00\", \"Prec_norm\": 95.9, \"Prec_mm\": 302.2, \"Month\": \"apr\", \"Year\": 2021}, {\"Name\": \"Pasvik - Svanvik\", \"Station\": \"SN99460\", \"Date\": \"2022-01-01T00:00:00\", \"Prec_norm\": 94.6, \"Prec_mm\": 297.9, \"Month\": \"apr\", \"Year\": 2022}, {\"Name\": \"Pasvik - Svanvik\", \"Station\": \"SN99460\", \"Date\": \"2023-01-01T00:00:00\", \"Prec_norm\": 82.7, \"Prec_mm\": 260.6, \"Month\": \"apr\", \"Year\": 2023}], \"empty\": [{}]}}, {\"mode\": \"vega-lite\"});\n",
       "</script>"
      ],
      "text/plain": [
       "alt.LayerChart(...)"
      ]
     },
     "execution_count": 20,
     "metadata": {},
     "output_type": "execute_result"
    }
   ],
   "source": [
    "import altair as alt \n",
    "import Utilities as ut\n",
    "\n",
    "pasvik_summer = ut.MET_data_loader(\"Pasvik_rain.csv\")\n",
    "\n",
    "selector = selection = alt.selection_point(on='pointerover', nearest=True)\n",
    "alt.Chart(pasvik_summer).mark_bar().encode(\n",
    "    x= alt.X(\"Date\").title(\"Year\"),\n",
    "    y=alt.Y(\"Prec_norm\").title(\"Precipitation related to normality (1990-2020)\"),\n",
    "    color= alt.condition(\n",
    "        selector, \n",
    "        alt.value(\"darkblue\"),\n",
    "        alt.value(\"lightgrey\")),\n",
    "        tooltip=[\"Prec_norm\"]\n",
    "    ).add_selection(\n",
    "        selector\n",
    "    ) + alt.Chart().mark_rule(strokeDash=[12, 6], size=1).encode(y=alt.datum(100))"
   ]
  },
  {
   "cell_type": "code",
   "execution_count": 15,
   "metadata": {},
   "outputs": [
    {
     "name": "stderr",
     "output_type": "stream",
     "text": [
      "c:\\Users\\Andrea\\anaconda3\\Lib\\site-packages\\altair\\utils\\deprecation.py:65: AltairDeprecationWarning: 'add_selection' is deprecated. Use 'add_params' instead.\n",
      "  warnings.warn(message, AltairDeprecationWarning, stacklevel=1)\n"
     ]
    },
    {
     "data": {
      "text/html": [
       "\n",
       "<style>\n",
       "  #altair-viz-0c212bd3e60947c5b5d62ecbf9401d47.vega-embed {\n",
       "    width: 100%;\n",
       "    display: flex;\n",
       "  }\n",
       "\n",
       "  #altair-viz-0c212bd3e60947c5b5d62ecbf9401d47.vega-embed details,\n",
       "  #altair-viz-0c212bd3e60947c5b5d62ecbf9401d47.vega-embed details summary {\n",
       "    position: relative;\n",
       "  }\n",
       "</style>\n",
       "<div id=\"altair-viz-0c212bd3e60947c5b5d62ecbf9401d47\"></div>\n",
       "<script type=\"text/javascript\">\n",
       "  var VEGA_DEBUG = (typeof VEGA_DEBUG == \"undefined\") ? {} : VEGA_DEBUG;\n",
       "  (function(spec, embedOpt){\n",
       "    let outputDiv = document.currentScript.previousElementSibling;\n",
       "    if (outputDiv.id !== \"altair-viz-0c212bd3e60947c5b5d62ecbf9401d47\") {\n",
       "      outputDiv = document.getElementById(\"altair-viz-0c212bd3e60947c5b5d62ecbf9401d47\");\n",
       "    }\n",
       "    const paths = {\n",
       "      \"vega\": \"https://cdn.jsdelivr.net/npm/vega@5?noext\",\n",
       "      \"vega-lib\": \"https://cdn.jsdelivr.net/npm/vega-lib?noext\",\n",
       "      \"vega-lite\": \"https://cdn.jsdelivr.net/npm/vega-lite@5.17.0?noext\",\n",
       "      \"vega-embed\": \"https://cdn.jsdelivr.net/npm/vega-embed@6?noext\",\n",
       "    };\n",
       "\n",
       "    function maybeLoadScript(lib, version) {\n",
       "      var key = `${lib.replace(\"-\", \"\")}_version`;\n",
       "      return (VEGA_DEBUG[key] == version) ?\n",
       "        Promise.resolve(paths[lib]) :\n",
       "        new Promise(function(resolve, reject) {\n",
       "          var s = document.createElement('script');\n",
       "          document.getElementsByTagName(\"head\")[0].appendChild(s);\n",
       "          s.async = true;\n",
       "          s.onload = () => {\n",
       "            VEGA_DEBUG[key] = version;\n",
       "            return resolve(paths[lib]);\n",
       "          };\n",
       "          s.onerror = () => reject(`Error loading script: ${paths[lib]}`);\n",
       "          s.src = paths[lib];\n",
       "        });\n",
       "    }\n",
       "\n",
       "    function showError(err) {\n",
       "      outputDiv.innerHTML = `<div class=\"error\" style=\"color:red;\">${err}</div>`;\n",
       "      throw err;\n",
       "    }\n",
       "\n",
       "    function displayChart(vegaEmbed) {\n",
       "      vegaEmbed(outputDiv, spec, embedOpt)\n",
       "        .catch(err => showError(`Javascript Error: ${err.message}<br>This usually means there's a typo in your chart specification. See the javascript console for the full traceback.`));\n",
       "    }\n",
       "\n",
       "    if(typeof define === \"function\" && define.amd) {\n",
       "      requirejs.config({paths});\n",
       "      require([\"vega-embed\"], displayChart, err => showError(`Error loading script: ${err.message}`));\n",
       "    } else {\n",
       "      maybeLoadScript(\"vega\", \"5\")\n",
       "        .then(() => maybeLoadScript(\"vega-lite\", \"5.17.0\"))\n",
       "        .then(() => maybeLoadScript(\"vega-embed\", \"6\"))\n",
       "        .catch(showError)\n",
       "        .then(() => displayChart(vegaEmbed));\n",
       "    }\n",
       "  })({\"config\": {\"view\": {\"continuousWidth\": 300, \"continuousHeight\": 300}}, \"data\": {\"name\": \"data-1987a0438465e2b186ec06c7ab7eef9e\"}, \"mark\": {\"type\": \"bar\"}, \"encoding\": {\"color\": {\"condition\": {\"param\": \"param_8\", \"value\": \"darkred\"}, \"value\": \"lightgrey\"}, \"tooltip\": [{\"field\": \"Prec_norm\", \"type\": \"quantitative\"}], \"x\": {\"field\": \"Date\", \"title\": \"Year\", \"type\": \"temporal\"}, \"y\": {\"field\": \"Prec_norm\", \"title\": \"Precipitation related to normality (1990-2020) [%]\", \"type\": \"quantitative\"}}, \"height\": 200, \"params\": [{\"name\": \"param_8\", \"select\": {\"type\": \"point\", \"fields\": [\"Origin\", \"Cylinders\"]}}], \"width\": 300, \"$schema\": \"https://vega.github.io/schema/vega-lite/v5.17.0.json\", \"datasets\": {\"data-1987a0438465e2b186ec06c7ab7eef9e\": [{\"Name\": \"Pasvik - Svanvik\", \"Station\": \"SN99460\", \"Date\": \"2009-01-01T00:00:00\", \"Prec_norm\": 93.5, \"Prec_mm\": 294.6, \"Month\": \"apr\", \"Year\": 2009}, {\"Name\": \"Pasvik - Svanvik\", \"Station\": \"SN99460\", \"Date\": \"2010-01-01T00:00:00\", \"Prec_norm\": 106.1, \"Prec_mm\": 334.2, \"Month\": \"apr\", \"Year\": 2010}, {\"Name\": \"Pasvik - Svanvik\", \"Station\": \"SN99460\", \"Date\": \"2011-01-01T00:00:00\", \"Prec_norm\": 87.7, \"Prec_mm\": 276.3, \"Month\": \"apr\", \"Year\": 2011}, {\"Name\": \"Pasvik - Svanvik\", \"Station\": \"SN99460\", \"Date\": \"2012-01-01T00:00:00\", \"Prec_norm\": 110.7, \"Prec_mm\": 348.8, \"Month\": \"apr\", \"Year\": 2012}, {\"Name\": \"Pasvik - Svanvik\", \"Station\": \"SN99460\", \"Date\": \"2014-01-01T00:00:00\", \"Prec_norm\": 85.7, \"Prec_mm\": 270.1, \"Month\": \"apr\", \"Year\": 2014}, {\"Name\": \"Pasvik - Svanvik\", \"Station\": \"SN99460\", \"Date\": \"2015-01-01T00:00:00\", \"Prec_norm\": 92.1, \"Prec_mm\": 290.3, \"Month\": \"apr\", \"Year\": 2015}, {\"Name\": \"Pasvik - Svanvik\", \"Station\": \"SN99460\", \"Date\": \"2016-01-01T00:00:00\", \"Prec_norm\": 129.9, \"Prec_mm\": 409.2, \"Month\": \"apr\", \"Year\": 2016}, {\"Name\": \"Pasvik - Svanvik\", \"Station\": \"SN99460\", \"Date\": \"2017-01-01T00:00:00\", \"Prec_norm\": 91.6, \"Prec_mm\": 288.5, \"Month\": \"apr\", \"Year\": 2017}, {\"Name\": \"Pasvik - Svanvik\", \"Station\": \"SN99460\", \"Date\": \"2018-01-01T00:00:00\", \"Prec_norm\": 99.9, \"Prec_mm\": 314.9, \"Month\": \"apr\", \"Year\": 2018}, {\"Name\": \"Pasvik - Svanvik\", \"Station\": \"SN99460\", \"Date\": \"2019-01-01T00:00:00\", \"Prec_norm\": 75.2, \"Prec_mm\": 237.1, \"Month\": \"apr\", \"Year\": 2019}, {\"Name\": \"Pasvik - Svanvik\", \"Station\": \"SN99460\", \"Date\": \"2020-01-01T00:00:00\", \"Prec_norm\": 82.3, \"Prec_mm\": 259.4, \"Month\": \"apr\", \"Year\": 2020}, {\"Name\": \"Pasvik - Svanvik\", \"Station\": \"SN99460\", \"Date\": \"2021-01-01T00:00:00\", \"Prec_norm\": 95.9, \"Prec_mm\": 302.2, \"Month\": \"apr\", \"Year\": 2021}, {\"Name\": \"Pasvik - Svanvik\", \"Station\": \"SN99460\", \"Date\": \"2022-01-01T00:00:00\", \"Prec_norm\": 94.6, \"Prec_mm\": 297.9, \"Month\": \"apr\", \"Year\": 2022}, {\"Name\": \"Pasvik - Svanvik\", \"Station\": \"SN99460\", \"Date\": \"2023-01-01T00:00:00\", \"Prec_norm\": 82.7, \"Prec_mm\": 260.6, \"Month\": \"apr\", \"Year\": 2023}]}}, {\"mode\": \"vega-lite\"});\n",
       "</script>"
      ],
      "text/plain": [
       "alt.Chart(...)"
      ]
     },
     "execution_count": 15,
     "metadata": {},
     "output_type": "execute_result"
    }
   ],
   "source": [
    "selector = selection = alt.selection_point(fields=['Origin', 'Cylinders'])\n",
    "\n",
    "roi_bars = alt.Chart(pasvik_summer).mark_bar().encode(\n",
    "    x = alt.X(\"Date\", title=\"Year\"\n",
    "),\n",
    "    y = alt.Y(\"Prec_norm:Q\", \n",
    "              title=\"Precipitation related to normality (1990-2020) [%]\"\n",
    "),\n",
    "    color= alt.condition(\n",
    "        selector, \n",
    "        alt.value(\"darkred\"),\n",
    "        alt.value(\"lightgrey\")),\n",
    "        tooltip=[\"Prec_norm\"] # display ROI and online properties on mouseover\n",
    ").add_selection(\n",
    "    selector\n",
    ").properties(\n",
    "    width=300,\n",
    "    height=200\n",
    ")\n",
    "\n",
    "roi_bars"
   ]
  }
 ],
 "metadata": {
  "kernelspec": {
   "display_name": "base",
   "language": "python",
   "name": "python3"
  },
  "language_info": {
   "codemirror_mode": {
    "name": "ipython",
    "version": 3
   },
   "file_extension": ".py",
   "mimetype": "text/x-python",
   "name": "python",
   "nbconvert_exporter": "python",
   "pygments_lexer": "ipython3",
   "version": "3.11.7"
  }
 },
 "nbformat": 4,
 "nbformat_minor": 2
}
