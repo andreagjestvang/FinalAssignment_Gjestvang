{
 "cells": [
  {
   "cell_type": "markdown",
   "metadata": {},
   "source": [
    "# The P-PIG"
   ]
  },
  {
   "cell_type": "markdown",
   "metadata": {},
   "source": [
    "#### Pasvik Percipitation Information Generator"
   ]
  },
  {
   "cell_type": "markdown",
   "metadata": {},
   "source": [
    "By: Andrea Gjestvang"
   ]
  },
  {
   "cell_type": "code",
   "execution_count": null,
   "metadata": {},
   "outputs": [],
   "source": [
    "import Main as main\n",
    "\n",
    "main.main()"
   ]
  },
  {
   "cell_type": "code",
   "execution_count": 5,
   "metadata": {},
   "outputs": [
    {
     "data": {
      "text/html": [
       "\n",
       "<style>\n",
       "  #altair-viz-541c2890ba794ddd90799639dc01514b.vega-embed {\n",
       "    width: 100%;\n",
       "    display: flex;\n",
       "  }\n",
       "\n",
       "  #altair-viz-541c2890ba794ddd90799639dc01514b.vega-embed details,\n",
       "  #altair-viz-541c2890ba794ddd90799639dc01514b.vega-embed details summary {\n",
       "    position: relative;\n",
       "  }\n",
       "</style>\n",
       "<div id=\"altair-viz-541c2890ba794ddd90799639dc01514b\"></div>\n",
       "<script type=\"text/javascript\">\n",
       "  var VEGA_DEBUG = (typeof VEGA_DEBUG == \"undefined\") ? {} : VEGA_DEBUG;\n",
       "  (function(spec, embedOpt){\n",
       "    let outputDiv = document.currentScript.previousElementSibling;\n",
       "    if (outputDiv.id !== \"altair-viz-541c2890ba794ddd90799639dc01514b\") {\n",
       "      outputDiv = document.getElementById(\"altair-viz-541c2890ba794ddd90799639dc01514b\");\n",
       "    }\n",
       "    const paths = {\n",
       "      \"vega\": \"https://cdn.jsdelivr.net/npm/vega@5?noext\",\n",
       "      \"vega-lib\": \"https://cdn.jsdelivr.net/npm/vega-lib?noext\",\n",
       "      \"vega-lite\": \"https://cdn.jsdelivr.net/npm/vega-lite@5.17.0?noext\",\n",
       "      \"vega-embed\": \"https://cdn.jsdelivr.net/npm/vega-embed@6?noext\",\n",
       "    };\n",
       "\n",
       "    function maybeLoadScript(lib, version) {\n",
       "      var key = `${lib.replace(\"-\", \"\")}_version`;\n",
       "      return (VEGA_DEBUG[key] == version) ?\n",
       "        Promise.resolve(paths[lib]) :\n",
       "        new Promise(function(resolve, reject) {\n",
       "          var s = document.createElement('script');\n",
       "          document.getElementsByTagName(\"head\")[0].appendChild(s);\n",
       "          s.async = true;\n",
       "          s.onload = () => {\n",
       "            VEGA_DEBUG[key] = version;\n",
       "            return resolve(paths[lib]);\n",
       "          };\n",
       "          s.onerror = () => reject(`Error loading script: ${paths[lib]}`);\n",
       "          s.src = paths[lib];\n",
       "        });\n",
       "    }\n",
       "\n",
       "    function showError(err) {\n",
       "      outputDiv.innerHTML = `<div class=\"error\" style=\"color:red;\">${err}</div>`;\n",
       "      throw err;\n",
       "    }\n",
       "\n",
       "    function displayChart(vegaEmbed) {\n",
       "      vegaEmbed(outputDiv, spec, embedOpt)\n",
       "        .catch(err => showError(`Javascript Error: ${err.message}<br>This usually means there's a typo in your chart specification. See the javascript console for the full traceback.`));\n",
       "    }\n",
       "\n",
       "    if(typeof define === \"function\" && define.amd) {\n",
       "      requirejs.config({paths});\n",
       "      require([\"vega-embed\"], displayChart, err => showError(`Error loading script: ${err.message}`));\n",
       "    } else {\n",
       "      maybeLoadScript(\"vega\", \"5\")\n",
       "        .then(() => maybeLoadScript(\"vega-lite\", \"5.17.0\"))\n",
       "        .then(() => maybeLoadScript(\"vega-embed\", \"6\"))\n",
       "        .catch(showError)\n",
       "        .then(() => displayChart(vegaEmbed));\n",
       "    }\n",
       "  })({\"config\": {\"view\": {\"continuousWidth\": 300, \"continuousHeight\": 300}}, \"layer\": [{\"data\": {\"name\": \"data-1987a0438465e2b186ec06c7ab7eef9e\"}, \"mark\": {\"type\": \"bar\"}, \"encoding\": {\"color\": {\"condition\": {\"param\": \"param_4\", \"value\": \"darkblue\"}, \"value\": \"lightgrey\"}, \"tooltip\": [{\"field\": \"Prec_norm\", \"type\": \"quantitative\"}], \"x\": {\"field\": \"Date\", \"title\": \"Year\", \"type\": \"temporal\"}, \"y\": {\"field\": \"Prec_norm\", \"title\": \"Precipitation related to normality (1990-2020)\", \"type\": \"quantitative\"}}, \"name\": \"view_3\"}, {\"data\": {\"name\": \"empty\"}, \"mark\": {\"type\": \"rule\", \"size\": 1, \"strokeDash\": [12, 6]}, \"encoding\": {\"y\": {\"datum\": 100}}}], \"params\": [{\"name\": \"param_4\", \"select\": {\"type\": \"point\", \"nearest\": true, \"on\": \"pointerover\"}, \"views\": [\"view_3\"]}], \"$schema\": \"https://vega.github.io/schema/vega-lite/v5.17.0.json\", \"datasets\": {\"data-1987a0438465e2b186ec06c7ab7eef9e\": [{\"Name\": \"Pasvik - Svanvik\", \"Station\": \"SN99460\", \"Date\": \"2009-01-01T00:00:00\", \"Prec_norm\": 93.5, \"Prec_mm\": 294.6, \"Month\": \"apr\", \"Year\": 2009}, {\"Name\": \"Pasvik - Svanvik\", \"Station\": \"SN99460\", \"Date\": \"2010-01-01T00:00:00\", \"Prec_norm\": 106.1, \"Prec_mm\": 334.2, \"Month\": \"apr\", \"Year\": 2010}, {\"Name\": \"Pasvik - Svanvik\", \"Station\": \"SN99460\", \"Date\": \"2011-01-01T00:00:00\", \"Prec_norm\": 87.7, \"Prec_mm\": 276.3, \"Month\": \"apr\", \"Year\": 2011}, {\"Name\": \"Pasvik - Svanvik\", \"Station\": \"SN99460\", \"Date\": \"2012-01-01T00:00:00\", \"Prec_norm\": 110.7, \"Prec_mm\": 348.8, \"Month\": \"apr\", \"Year\": 2012}, {\"Name\": \"Pasvik - Svanvik\", \"Station\": \"SN99460\", \"Date\": \"2014-01-01T00:00:00\", \"Prec_norm\": 85.7, \"Prec_mm\": 270.1, \"Month\": \"apr\", \"Year\": 2014}, {\"Name\": \"Pasvik - Svanvik\", \"Station\": \"SN99460\", \"Date\": \"2015-01-01T00:00:00\", \"Prec_norm\": 92.1, \"Prec_mm\": 290.3, \"Month\": \"apr\", \"Year\": 2015}, {\"Name\": \"Pasvik - Svanvik\", \"Station\": \"SN99460\", \"Date\": \"2016-01-01T00:00:00\", \"Prec_norm\": 129.9, \"Prec_mm\": 409.2, \"Month\": \"apr\", \"Year\": 2016}, {\"Name\": \"Pasvik - Svanvik\", \"Station\": \"SN99460\", \"Date\": \"2017-01-01T00:00:00\", \"Prec_norm\": 91.6, \"Prec_mm\": 288.5, \"Month\": \"apr\", \"Year\": 2017}, {\"Name\": \"Pasvik - Svanvik\", \"Station\": \"SN99460\", \"Date\": \"2018-01-01T00:00:00\", \"Prec_norm\": 99.9, \"Prec_mm\": 314.9, \"Month\": \"apr\", \"Year\": 2018}, {\"Name\": \"Pasvik - Svanvik\", \"Station\": \"SN99460\", \"Date\": \"2019-01-01T00:00:00\", \"Prec_norm\": 75.2, \"Prec_mm\": 237.1, \"Month\": \"apr\", \"Year\": 2019}, {\"Name\": \"Pasvik - Svanvik\", \"Station\": \"SN99460\", \"Date\": \"2020-01-01T00:00:00\", \"Prec_norm\": 82.3, \"Prec_mm\": 259.4, \"Month\": \"apr\", \"Year\": 2020}, {\"Name\": \"Pasvik - Svanvik\", \"Station\": \"SN99460\", \"Date\": \"2021-01-01T00:00:00\", \"Prec_norm\": 95.9, \"Prec_mm\": 302.2, \"Month\": \"apr\", \"Year\": 2021}, {\"Name\": \"Pasvik - Svanvik\", \"Station\": \"SN99460\", \"Date\": \"2022-01-01T00:00:00\", \"Prec_norm\": 94.6, \"Prec_mm\": 297.9, \"Month\": \"apr\", \"Year\": 2022}, {\"Name\": \"Pasvik - Svanvik\", \"Station\": \"SN99460\", \"Date\": \"2023-01-01T00:00:00\", \"Prec_norm\": 82.7, \"Prec_mm\": 260.6, \"Month\": \"apr\", \"Year\": 2023}], \"empty\": [{}]}}, {\"mode\": \"vega-lite\"});\n",
       "</script>"
      ],
      "text/plain": [
       "alt.LayerChart(...)"
      ]
     },
     "execution_count": 5,
     "metadata": {},
     "output_type": "execute_result"
    }
   ],
   "source": [
    "import altair as alt \n",
    "import Utilities as ut\n",
    "\n",
    "pasvik_summer = ut.MET_data_loader(\"Pasvik_rain.csv\")\n",
    "\n",
    "selector = selection = alt.selection_point(on='pointerover', nearest=True)\n",
    "alt.Chart(pasvik_summer).mark_bar().encode(\n",
    "    x= alt.X(\"Date\").title(\"Year\"),\n",
    "    y=alt.Y(\"Prec_norm\").title(\"Precipitation related to normality (1990-2020)\"),\n",
    "    color= alt.condition(\n",
    "        selector, \n",
    "        alt.value(\"darkblue\"),\n",
    "        alt.value(\"lightgrey\")),\n",
    "        tooltip=[\"Prec_norm\"]\n",
    "    ).add_params(\n",
    "        selector\n",
    "    ) + alt.Chart().mark_rule(strokeDash=[12, 6], size=1).encode(y=alt.datum(100))"
   ]
  },
  {
   "cell_type": "code",
   "execution_count": 9,
   "metadata": {},
   "outputs": [
    {
     "name": "stderr",
     "output_type": "stream",
     "text": [
      "c:\\Users\\Andrea\\anaconda3\\Lib\\site-packages\\altair\\utils\\deprecation.py:65: AltairDeprecationWarning: 'add_selection' is deprecated. Use 'add_params' instead.\n",
      "  warnings.warn(message, AltairDeprecationWarning, stacklevel=1)\n"
     ]
    },
    {
     "data": {
      "text/html": [
       "\n",
       "<style>\n",
       "  #altair-viz-8041a79254694c09b456e4d0f7073a4b.vega-embed {\n",
       "    width: 100%;\n",
       "    display: flex;\n",
       "  }\n",
       "\n",
       "  #altair-viz-8041a79254694c09b456e4d0f7073a4b.vega-embed details,\n",
       "  #altair-viz-8041a79254694c09b456e4d0f7073a4b.vega-embed details summary {\n",
       "    position: relative;\n",
       "  }\n",
       "</style>\n",
       "<div id=\"altair-viz-8041a79254694c09b456e4d0f7073a4b\"></div>\n",
       "<script type=\"text/javascript\">\n",
       "  var VEGA_DEBUG = (typeof VEGA_DEBUG == \"undefined\") ? {} : VEGA_DEBUG;\n",
       "  (function(spec, embedOpt){\n",
       "    let outputDiv = document.currentScript.previousElementSibling;\n",
       "    if (outputDiv.id !== \"altair-viz-8041a79254694c09b456e4d0f7073a4b\") {\n",
       "      outputDiv = document.getElementById(\"altair-viz-8041a79254694c09b456e4d0f7073a4b\");\n",
       "    }\n",
       "    const paths = {\n",
       "      \"vega\": \"https://cdn.jsdelivr.net/npm/vega@5?noext\",\n",
       "      \"vega-lib\": \"https://cdn.jsdelivr.net/npm/vega-lib?noext\",\n",
       "      \"vega-lite\": \"https://cdn.jsdelivr.net/npm/vega-lite@5.17.0?noext\",\n",
       "      \"vega-embed\": \"https://cdn.jsdelivr.net/npm/vega-embed@6?noext\",\n",
       "    };\n",
       "\n",
       "    function maybeLoadScript(lib, version) {\n",
       "      var key = `${lib.replace(\"-\", \"\")}_version`;\n",
       "      return (VEGA_DEBUG[key] == version) ?\n",
       "        Promise.resolve(paths[lib]) :\n",
       "        new Promise(function(resolve, reject) {\n",
       "          var s = document.createElement('script');\n",
       "          document.getElementsByTagName(\"head\")[0].appendChild(s);\n",
       "          s.async = true;\n",
       "          s.onload = () => {\n",
       "            VEGA_DEBUG[key] = version;\n",
       "            return resolve(paths[lib]);\n",
       "          };\n",
       "          s.onerror = () => reject(`Error loading script: ${paths[lib]}`);\n",
       "          s.src = paths[lib];\n",
       "        });\n",
       "    }\n",
       "\n",
       "    function showError(err) {\n",
       "      outputDiv.innerHTML = `<div class=\"error\" style=\"color:red;\">${err}</div>`;\n",
       "      throw err;\n",
       "    }\n",
       "\n",
       "    function displayChart(vegaEmbed) {\n",
       "      vegaEmbed(outputDiv, spec, embedOpt)\n",
       "        .catch(err => showError(`Javascript Error: ${err.message}<br>This usually means there's a typo in your chart specification. See the javascript console for the full traceback.`));\n",
       "    }\n",
       "\n",
       "    if(typeof define === \"function\" && define.amd) {\n",
       "      requirejs.config({paths});\n",
       "      require([\"vega-embed\"], displayChart, err => showError(`Error loading script: ${err.message}`));\n",
       "    } else {\n",
       "      maybeLoadScript(\"vega\", \"5\")\n",
       "        .then(() => maybeLoadScript(\"vega-lite\", \"5.17.0\"))\n",
       "        .then(() => maybeLoadScript(\"vega-embed\", \"6\"))\n",
       "        .catch(showError)\n",
       "        .then(() => displayChart(vegaEmbed));\n",
       "    }\n",
       "  })({\"config\": {\"view\": {\"continuousWidth\": 300, \"continuousHeight\": 300}}, \"data\": {\"name\": \"data-1987a0438465e2b186ec06c7ab7eef9e\"}, \"mark\": {\"type\": \"bar\"}, \"encoding\": {\"color\": {\"condition\": {\"param\": \"param_8\", \"value\": \"darkred\"}, \"value\": \"lightgrey\"}, \"tooltip\": [{\"field\": \"Prec_norm\", \"type\": \"quantitative\"}], \"x\": {\"field\": \"Date\", \"title\": \"Year\", \"type\": \"temporal\"}, \"y\": {\"field\": \"Prec_norm\", \"title\": \"Precipitation related to normality (1990-2020) [%]\", \"type\": \"quantitative\"}}, \"height\": 200, \"params\": [{\"name\": \"param_8\", \"select\": {\"type\": \"point\", \"fields\": [\"Origin\", \"Cylinders\"]}}], \"width\": 300, \"$schema\": \"https://vega.github.io/schema/vega-lite/v5.17.0.json\", \"datasets\": {\"data-1987a0438465e2b186ec06c7ab7eef9e\": [{\"Name\": \"Pasvik - Svanvik\", \"Station\": \"SN99460\", \"Date\": \"2009-01-01T00:00:00\", \"Prec_norm\": 93.5, \"Prec_mm\": 294.6, \"Month\": \"apr\", \"Year\": 2009}, {\"Name\": \"Pasvik - Svanvik\", \"Station\": \"SN99460\", \"Date\": \"2010-01-01T00:00:00\", \"Prec_norm\": 106.1, \"Prec_mm\": 334.2, \"Month\": \"apr\", \"Year\": 2010}, {\"Name\": \"Pasvik - Svanvik\", \"Station\": \"SN99460\", \"Date\": \"2011-01-01T00:00:00\", \"Prec_norm\": 87.7, \"Prec_mm\": 276.3, \"Month\": \"apr\", \"Year\": 2011}, {\"Name\": \"Pasvik - Svanvik\", \"Station\": \"SN99460\", \"Date\": \"2012-01-01T00:00:00\", \"Prec_norm\": 110.7, \"Prec_mm\": 348.8, \"Month\": \"apr\", \"Year\": 2012}, {\"Name\": \"Pasvik - Svanvik\", \"Station\": \"SN99460\", \"Date\": \"2014-01-01T00:00:00\", \"Prec_norm\": 85.7, \"Prec_mm\": 270.1, \"Month\": \"apr\", \"Year\": 2014}, {\"Name\": \"Pasvik - Svanvik\", \"Station\": \"SN99460\", \"Date\": \"2015-01-01T00:00:00\", \"Prec_norm\": 92.1, \"Prec_mm\": 290.3, \"Month\": \"apr\", \"Year\": 2015}, {\"Name\": \"Pasvik - Svanvik\", \"Station\": \"SN99460\", \"Date\": \"2016-01-01T00:00:00\", \"Prec_norm\": 129.9, \"Prec_mm\": 409.2, \"Month\": \"apr\", \"Year\": 2016}, {\"Name\": \"Pasvik - Svanvik\", \"Station\": \"SN99460\", \"Date\": \"2017-01-01T00:00:00\", \"Prec_norm\": 91.6, \"Prec_mm\": 288.5, \"Month\": \"apr\", \"Year\": 2017}, {\"Name\": \"Pasvik - Svanvik\", \"Station\": \"SN99460\", \"Date\": \"2018-01-01T00:00:00\", \"Prec_norm\": 99.9, \"Prec_mm\": 314.9, \"Month\": \"apr\", \"Year\": 2018}, {\"Name\": \"Pasvik - Svanvik\", \"Station\": \"SN99460\", \"Date\": \"2019-01-01T00:00:00\", \"Prec_norm\": 75.2, \"Prec_mm\": 237.1, \"Month\": \"apr\", \"Year\": 2019}, {\"Name\": \"Pasvik - Svanvik\", \"Station\": \"SN99460\", \"Date\": \"2020-01-01T00:00:00\", \"Prec_norm\": 82.3, \"Prec_mm\": 259.4, \"Month\": \"apr\", \"Year\": 2020}, {\"Name\": \"Pasvik - Svanvik\", \"Station\": \"SN99460\", \"Date\": \"2021-01-01T00:00:00\", \"Prec_norm\": 95.9, \"Prec_mm\": 302.2, \"Month\": \"apr\", \"Year\": 2021}, {\"Name\": \"Pasvik - Svanvik\", \"Station\": \"SN99460\", \"Date\": \"2022-01-01T00:00:00\", \"Prec_norm\": 94.6, \"Prec_mm\": 297.9, \"Month\": \"apr\", \"Year\": 2022}, {\"Name\": \"Pasvik - Svanvik\", \"Station\": \"SN99460\", \"Date\": \"2023-01-01T00:00:00\", \"Prec_norm\": 82.7, \"Prec_mm\": 260.6, \"Month\": \"apr\", \"Year\": 2023}]}}, {\"mode\": \"vega-lite\"});\n",
       "</script>"
      ],
      "text/plain": [
       "alt.Chart(...)"
      ]
     },
     "execution_count": 9,
     "metadata": {},
     "output_type": "execute_result"
    }
   ],
   "source": [
    "selector = selection = alt.selection_point(fields=['Origin', 'Cylinders'])\n",
    "\n",
    "roi_bars = alt.Chart(pasvik_summer).mark_bar().encode(\n",
    "    x = alt.X(\"Date\", title=\"Year\"\n",
    "),\n",
    "    y = alt.Y(\"Prec_norm:Q\", \n",
    "              title=\"Precipitation related to normality (1990-2020) [%]\"\n",
    "),\n",
    "    color= alt.condition(\n",
    "        selector, \n",
    "        alt.value(\"darkred\"),\n",
    "        alt.value(\"lightgrey\")),\n",
    "        tooltip=[\"Prec_norm\"] # display ROI and online properties on mouseover\n",
    ").add_selection(\n",
    "    selector\n",
    ").properties(\n",
    "    width=300,\n",
    "    height=200\n",
    ")\n",
    "\n",
    "roi_bars"
   ]
  }
 ],
 "metadata": {
  "kernelspec": {
   "display_name": "base",
   "language": "python",
   "name": "python3"
  },
  "language_info": {
   "codemirror_mode": {
    "name": "ipython",
    "version": 3
   },
   "file_extension": ".py",
   "mimetype": "text/x-python",
   "name": "python",
   "nbconvert_exporter": "python",
   "pygments_lexer": "ipython3",
   "version": "3.11.7"
  }
 },
 "nbformat": 4,
 "nbformat_minor": 2
}
